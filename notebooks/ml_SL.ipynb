{
 "cells": [
  {
   "cell_type": "code",
   "execution_count": 1,
   "id": "loved-spank",
   "metadata": {},
   "outputs": [],
   "source": [
    "from pyspark.ml.regression import GeneralizedLinearRegression\n",
    "from pyspark.ml.classification import LogisticRegression\n",
    "from pyspark.sql import SparkSession\n",
    "from pyspark.ml.feature import StringIndexer\n",
    "from pyspark.ml.feature import OneHotEncoder\n",
    "from pyspark.ml.feature import VectorAssembler\n",
    "from pyspark.ml.feature import StandardScaler\n",
    "from pyspark.ml import Pipeline\n",
    "import pandas as pd\n",
    "import numpy as np\n",
    "import sklearn\n",
    "import pandas as pd\n",
    "from pyspark.ml.linalg import Vectors\n",
    "from pyspark.ml.stat import Correlation\n",
    "from pyspark.sql import SparkSession\n",
    "from pyspark.ml import Pipeline\n",
    "from pyspark.ml.classification import GBTClassifier\n",
    "from pyspark.ml.feature import StringIndexer, VectorIndexer\n",
    "from pyspark.ml.evaluation import MulticlassClassificationEvaluator"
   ]
  },
  {
   "cell_type": "code",
   "execution_count": 2,
   "id": "universal-promise",
   "metadata": {},
   "outputs": [],
   "source": [
    "# Import pyspark. Start a session \n",
    "from pyspark.ml.linalg import Vectors\n",
    "from pyspark.ml.stat import Correlation\n",
    "from pyspark.sql import SparkSession\n",
    "from functools import reduce\n",
    "\n",
    "spark = SparkSession.builder.master('local[2]').config(\"spark.executor.memory\", \"1g\").config(\"spark.driver.memory\", \"1g\").appName('spark_sh_data').getOrCreate()"
   ]
  },
  {
   "cell_type": "code",
   "execution_count": 3,
   "id": "sorted-attribute",
   "metadata": {},
   "outputs": [],
   "source": [
    "t4_mor = spark.read.options(header=True, nullValue='NULL', inferSchema=True).csv('/home/jovyan/cybr/data/csvs/t4_mor.csv')"
   ]
  },
  {
   "cell_type": "code",
   "execution_count": 7,
   "id": "saving-flush",
   "metadata": {},
   "outputs": [
    {
     "name": "stdout",
     "output_type": "stream",
     "text": [
      "+-----------+--------+\n",
      "|sessionType|   count|\n",
      "+-----------+--------+\n",
      "|     benign| 7998264|\n",
      "|  malicious|32820790|\n",
      "|           |    5839|\n",
      "+-----------+--------+\n",
      "\n"
     ]
    }
   ],
   "source": [
    "t4_mor.groupBy('sessionType').count().show()"
   ]
  },
  {
   "cell_type": "code",
   "execution_count": null,
   "id": "amended-stake",
   "metadata": {},
   "outputs": [],
   "source": []
  }
 ],
 "metadata": {
  "kernelspec": {
   "display_name": "Python 3",
   "language": "python",
   "name": "python3"
  },
  "language_info": {
   "codemirror_mode": {
    "name": "ipython",
    "version": 3
   },
   "file_extension": ".py",
   "mimetype": "text/x-python",
   "name": "python",
   "nbconvert_exporter": "python",
   "pygments_lexer": "ipython3",
   "version": "3.8.6"
  }
 },
 "nbformat": 4,
 "nbformat_minor": 5
}
