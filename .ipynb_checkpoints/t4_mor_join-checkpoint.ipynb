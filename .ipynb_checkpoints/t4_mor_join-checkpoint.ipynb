{
 "cells": [
  {
   "cell_type": "markdown",
   "id": "blind-individual",
   "metadata": {},
   "source": [
    "# Sherlock: Classifying Malicious Cell Phone Sessions \n",
    "\n",
    "This subset of the well-known Sherlock dataset contains data extracted from 37 user's cell phones across 3 months at the beginning of 2016. There are two tables involved in this analysis:  \n",
    "T4.tsv: ~26Gb of data on battery level, memory usage, packet inflows and outflows and the like. Each row represents a scan, and scans are conducted every 5 seconds. \n",
    "Moriartyprobe.tsv: ~90Mb of data from an app called Moriarty which starts \"sessions\", which are a variety of realistic of attacks on the user's cellphone that stop and start intermittently. The sessions are either benign or malicious.  \n",
    "\n",
    "Our model looks at the activity on the cell phone while these sessions are occuring. We develop a machine learning model that could be implemented to track T4 cell phone usage stats in real time to identify whether an attack is occurring.  \n",
    "\n",
    "In order to use this dataset in a Spark ML pipeline, it must be imported, transformed, cleaned, subsetted, then both tables must be combined. The code below uses awk, PySpark, and a SparkSQL api to do all of that.  "
   ]
  },
  {
   "cell_type": "code",
   "execution_count": 1,
   "id": "optional-disability",
   "metadata": {},
   "outputs": [
    {
     "name": "stdout",
     "output_type": "stream",
     "text": [
      "/home/jovyan/SherLock\n"
     ]
    }
   ],
   "source": [
    "!pwd"
   ]
  },
  {
   "cell_type": "code",
   "execution_count": 7,
   "id": "independent-timeline",
   "metadata": {},
   "outputs": [],
   "source": [
    "# change permissions to make file executable\n",
    "!chmod +x import.awk\n",
    "# This next terminal command will take a while to run, as it subsets and transforms the 26gb dataset from tsv to csv line by line \n",
    "# In order of lines: \n",
    "# Path to where the executable is stored \n",
    "    # Print to path to the T4.tsv dataset \n",
    "# Path to where the T4.csv dataset will be stored \n",
    "# Path to where the executable is stored \n",
    "# Path to the Moriartyprobe.tsv dataset \n",
    "    # Print to path to where the T4.csv dataset will be stored \n",
    "\n",
    "!./import.awk \\\n",
    "tsvs/T4tiny.tsv \\\n",
    "    > csvs/T4tiny.csv \n",
    "!./import.awk \\\n",
    "tsvs/Moriartyprobe.tsv \\\n",
    "    > csvs/Moriartyprobe.csv"
   ]
  },
  {
   "cell_type": "code",
   "execution_count": 1,
   "id": "adequate-modern",
   "metadata": {},
   "outputs": [],
   "source": [
    "# Import pyspark. Start a session \n",
    "from pyspark.ml.linalg import Vectors\n",
    "from pyspark.ml.stat import Correlation\n",
    "from pyspark.sql import SparkSession\n",
    "from functools import reduce\n",
    "import pandas as pd\n",
    "import numpy as np\n",
    "import sklearn"
   ]
  },
  {
   "cell_type": "code",
   "execution_count": 2,
   "id": "through-warning",
   "metadata": {},
   "outputs": [],
   "source": [
    "spark = SparkSession.builder.master('local[2]').config(\"spark.executor.memory\", \"1g\").config(\"spark.driver.memory\", \"1g\").appName('spark_sh_data').getOrCreate()"
   ]
  },
  {
   "cell_type": "code",
   "execution_count": 3,
   "id": "small-discharge",
   "metadata": {},
   "outputs": [],
   "source": [
    "# Import data: t4 and Moriarty\n",
    "t4 = spark.read.options(header=True, nullValue='NULL', inferSchema=True).csv('/home/jovyan/cybr/data/csvs/T4subset.csv')\n",
    "mor = spark.read.options(header=True, nullValue='NULL', inferSchema=True).csv('/home/jovyan/cybr/data/csvs/Moriarityprobe.csv')"
   ]
  },
  {
   "cell_type": "code",
   "execution_count": 4,
   "id": "multiple-glucose",
   "metadata": {},
   "outputs": [
    {
     "name": "stdout",
     "output_type": "stream",
     "text": [
      "root\n",
      " |-- userid: string (nullable = true)\n",
      " |-- uuid: long (nullable = true)\n",
      " |-- Version: string (nullable = true)\n",
      " |-- CpuGHz: string (nullable = true)\n",
      " |-- CPU_0: string (nullable = true)\n",
      " |-- CPU_1: string (nullable = true)\n",
      " |-- CPU_2: string (nullable = true)\n",
      " |-- CPU_3: string (nullable = true)\n",
      " |-- Total_CPU: string (nullable = true)\n",
      " |-- TotalMemory_freeSize: string (nullable = true)\n",
      " |-- TotalMemory_max_size: string (nullable = true)\n",
      " |-- TotalMemory_total_size: string (nullable = true)\n",
      " |-- TotalMemory_used_size: string (nullable = true)\n",
      " |-- Traffic_MobileRxBytes: string (nullable = true)\n",
      " |-- Traffic_MobileRxPackets: string (nullable = true)\n",
      " |-- Traffic_MobileTxBytes: string (nullable = true)\n",
      " |-- Traffic_MobileTxPackets: string (nullable = true)\n",
      " |-- Traffic_TotalRxBytes: string (nullable = true)\n",
      " |-- Traffic_TotalRxPackets: string (nullable = true)\n",
      " |-- Traffic_TotalTxBytes: string (nullable = true)\n",
      " |-- Traffic_TotalTxPackets: string (nullable = true)\n",
      " |-- Traffic_TotalWifiRxBytes: string (nullable = true)\n",
      " |-- Traffic_TotalWifiRxPackets: string (nullable = true)\n",
      " |-- Traffic_TotalWifiTxBytes: string (nullable = true)\n",
      " |-- Traffic_TotalWifiTxPackets: string (nullable = true)\n",
      " |-- Traffic_timestamp: string (nullable = true)\n",
      "\n",
      "root\n",
      " |-- userid: string (nullable = true)\n",
      " |-- uuid: long (nullable = true)\n",
      " |-- actionType: string (nullable = true)\n",
      " |-- action: string (nullable = true)\n",
      " |-- behavior: string (nullable = true)\n",
      " |-- sessionType: string (nullable = true)\n",
      " |-- sessionID: string (nullable = true)\n",
      " |-- version: integer (nullable = true)\n",
      "\n"
     ]
    }
   ],
   "source": [
    "# create colnames T4\n",
    "t4_colnames = ['userid', 'uuid', 'Version', 'CpuGHz', 'CPU_0', 'CPU_1', 'CPU_2', 'CPU_3', 'Total_CPU', 'TotalMemory_freeSize', 'TotalMemory_max_size',\n",
    "'TotalMemory_total_size', 'TotalMemory_used_size', 'Traffic_MobileRxBytes', 'Traffic_MobileRxPackets', 'Traffic_MobileTxBytes',\n",
    "'Traffic_MobileTxPackets','Traffic_TotalRxBytes', 'Traffic_TotalRxPackets', 'Traffic_TotalTxBytes', 'Traffic_TotalTxPackets',\n",
    "'Traffic_TotalWifiRxBytes', 'Traffic_TotalWifiRxPackets', 'Traffic_TotalWifiTxBytes', 'Traffic_TotalWifiTxPackets',\n",
    "'Traffic_timestamp', 'Battery_charge_type', 'Battery_current_avg']\n",
    "\n",
    "# create colnames Moriarty \n",
    "mor_colnames = ['userid', 'uuid', 'actionType', 'action', 'behavior', 'sessionType', 'sessionID', 'version']\n",
    "# Add column names\n",
    "t4_oldColumns = t4.schema.names\n",
    "t4_newColumns = t4_colnames\n",
    "\n",
    "mor_oldColumns = mor.schema.names\n",
    "mor_newColumns = mor_colnames\n",
    "\n",
    "\n",
    "t4 = reduce(lambda t4, idx: t4.withColumnRenamed(t4_oldColumns[idx], t4_newColumns[idx]), range(len(t4_oldColumns)), t4)\n",
    "mor = reduce(lambda mor, idx: mor.withColumnRenamed(mor_oldColumns[idx], mor_newColumns[idx]), range(len(mor_oldColumns)), mor)\n",
    "t4.printSchema()\n",
    "mor.printSchema()"
   ]
  },
  {
   "cell_type": "code",
   "execution_count": 5,
   "id": "numeric-percentage",
   "metadata": {},
   "outputs": [
    {
     "data": {
      "text/html": [
       "<div>\n",
       "<style scoped>\n",
       "    .dataframe tbody tr th:only-of-type {\n",
       "        vertical-align: middle;\n",
       "    }\n",
       "\n",
       "    .dataframe tbody tr th {\n",
       "        vertical-align: top;\n",
       "    }\n",
       "\n",
       "    .dataframe thead th {\n",
       "        text-align: right;\n",
       "    }\n",
       "</style>\n",
       "<table border=\"1\" class=\"dataframe\">\n",
       "  <thead>\n",
       "    <tr style=\"text-align: right;\">\n",
       "      <th></th>\n",
       "      <th>userid</th>\n",
       "      <th>uuid</th>\n",
       "      <th>actionType</th>\n",
       "      <th>action</th>\n",
       "      <th>behavior</th>\n",
       "      <th>sessionType</th>\n",
       "      <th>sessionID</th>\n",
       "      <th>version</th>\n",
       "    </tr>\n",
       "  </thead>\n",
       "  <tbody>\n",
       "    <tr>\n",
       "      <th>0</th>\n",
       "      <td>0a50e09262</td>\n",
       "      <td>1451638991449</td>\n",
       "      <td>App entered onPause()</td>\n",
       "      <td>App Mode change</td>\n",
       "      <td>benign</td>\n",
       "      <td>benign</td>\n",
       "      <td>1.0</td>\n",
       "      <td>21</td>\n",
       "    </tr>\n",
       "    <tr>\n",
       "      <th>1</th>\n",
       "      <td>0a50e09262</td>\n",
       "      <td>1451637887475</td>\n",
       "      <td>Application entered onCreate()</td>\n",
       "      <td>Application started</td>\n",
       "      <td>benign</td>\n",
       "      <td>benign</td>\n",
       "      <td>1.0</td>\n",
       "      <td>21</td>\n",
       "    </tr>\n",
       "    <tr>\n",
       "      <th>2</th>\n",
       "      <td>0a50e09262</td>\n",
       "      <td>1451637887633</td>\n",
       "      <td>User started to play a game (name);solo</td>\n",
       "      <td>Game stared</td>\n",
       "      <td>benign</td>\n",
       "      <td>benign</td>\n",
       "      <td>1.0</td>\n",
       "      <td>21</td>\n",
       "    </tr>\n",
       "    <tr>\n",
       "      <th>3</th>\n",
       "      <td>0a50e09262</td>\n",
       "      <td>1451637921510</td>\n",
       "      <td>App entered onPause()</td>\n",
       "      <td>App Mode change</td>\n",
       "      <td>benign</td>\n",
       "      <td>benign</td>\n",
       "      <td>1.0</td>\n",
       "      <td>21</td>\n",
       "    </tr>\n",
       "    <tr>\n",
       "      <th>4</th>\n",
       "      <td>0a50e09262</td>\n",
       "      <td>1451638167470</td>\n",
       "      <td>App entered onResume</td>\n",
       "      <td>App Mode change</td>\n",
       "      <td>benign</td>\n",
       "      <td>benign</td>\n",
       "      <td>1.0</td>\n",
       "      <td>21</td>\n",
       "    </tr>\n",
       "  </tbody>\n",
       "</table>\n",
       "</div>"
      ],
      "text/plain": [
       "       userid           uuid                               actionType  \\\n",
       "0  0a50e09262  1451638991449                    App entered onPause()   \n",
       "1  0a50e09262  1451637887475           Application entered onCreate()   \n",
       "2  0a50e09262  1451637887633  User started to play a game (name);solo   \n",
       "3  0a50e09262  1451637921510                    App entered onPause()   \n",
       "4  0a50e09262  1451638167470                     App entered onResume   \n",
       "\n",
       "                action behavior sessionType sessionID  version  \n",
       "0      App Mode change   benign      benign       1.0       21  \n",
       "1  Application started   benign      benign       1.0       21  \n",
       "2          Game stared   benign      benign       1.0       21  \n",
       "3      App Mode change   benign      benign       1.0       21  \n",
       "4      App Mode change   benign      benign       1.0       21  "
      ]
     },
     "execution_count": 5,
     "metadata": {},
     "output_type": "execute_result"
    }
   ],
   "source": [
    "# verify successful import\n",
    "import pandas as pd\n",
    "pd.set_option('display.max_columns', None)\n",
    "mor.toPandas().head()"
   ]
  },
  {
   "cell_type": "markdown",
   "id": "parliamentary-active",
   "metadata": {},
   "source": [
    "## Join the t4 and Moriarty datasets. They do not share a common key. \n",
    "This is a critical move, and a challenging one. I will need to join the tables based on the uuid values, only joining values which are within the same range of time period. UUID is measured in milliseconds, so I will distribute labels of malicious or benign across the time ranges.\n",
    "Utilizing a CTE, a window function, and a subquery, I successfully joined the two tables."
   ]
  },
  {
   "cell_type": "code",
   "execution_count": 6,
   "id": "demanding-municipality",
   "metadata": {},
   "outputs": [],
   "source": [
    "# create temp table \n",
    "t4.createOrReplaceTempView('t4')\n",
    "mor.createOrReplaceTempView('mor')\n",
    "t4_mor_sql = spark.sql(\"\"\"\n",
    "with CTE as (SELECT uuid\n",
    "    , min(sessionType) OVER (PARTITION BY m_grp) as sessionType\n",
    "FROM (\n",
    "    SELECT uuid, m.sessionType \n",
    "        , count(m.sessionType) OVER (ORDER BY uuid) as m_grp\n",
    "    FROM mor m\n",
    "    FULL OUTER JOIN t4 t using(uuid)\n",
    "    ) sub)\n",
    "SELECT * \n",
    "FROM CTE\n",
    "JOIN t4 using(uuid);\n",
    "\"\"\")"
   ]
  },
  {
   "cell_type": "code",
   "execution_count": 7,
   "id": "previous-strand",
   "metadata": {
    "collapsed": true,
    "jupyter": {
     "outputs_hidden": true
    }
   },
   "outputs": [
    {
     "ename": "KeyboardInterrupt",
     "evalue": "",
     "output_type": "error",
     "traceback": [
      "\u001b[0;31m---------------------------------------------------------------------------\u001b[0m",
      "\u001b[0;31mKeyboardInterrupt\u001b[0m                         Traceback (most recent call last)",
      "\u001b[0;32m<ipython-input-7-6ae70aa11695>\u001b[0m in \u001b[0;36m<module>\u001b[0;34m\u001b[0m\n\u001b[0;32m----> 1\u001b[0;31m \u001b[0mt4_mor_sql\u001b[0m\u001b[0;34m.\u001b[0m\u001b[0mrepartition\u001b[0m\u001b[0;34m(\u001b[0m\u001b[0;36m1\u001b[0m\u001b[0;34m)\u001b[0m\u001b[0;34m.\u001b[0m\u001b[0mwrite\u001b[0m\u001b[0;34m.\u001b[0m\u001b[0mformat\u001b[0m\u001b[0;34m(\u001b[0m\u001b[0;34m\"com.databricks.spark.csv\"\u001b[0m\u001b[0;34m)\u001b[0m\u001b[0;34m.\u001b[0m\u001b[0moption\u001b[0m\u001b[0;34m(\u001b[0m\u001b[0;34m\"header\"\u001b[0m\u001b[0;34m,\u001b[0m \u001b[0;34m\"true\"\u001b[0m\u001b[0;34m)\u001b[0m\u001b[0;34m.\u001b[0m\u001b[0msave\u001b[0m\u001b[0;34m(\u001b[0m\u001b[0;34m\"t4_mor.csv\"\u001b[0m\u001b[0;34m)\u001b[0m\u001b[0;34m\u001b[0m\u001b[0;34m\u001b[0m\u001b[0m\n\u001b[0m",
      "\u001b[0;32m/usr/local/spark/python/pyspark/sql/readwriter.py\u001b[0m in \u001b[0;36msave\u001b[0;34m(self, path, format, mode, partitionBy, **options)\u001b[0m\n\u001b[1;32m    825\u001b[0m             \u001b[0mself\u001b[0m\u001b[0;34m.\u001b[0m\u001b[0m_jwrite\u001b[0m\u001b[0;34m.\u001b[0m\u001b[0msave\u001b[0m\u001b[0;34m(\u001b[0m\u001b[0;34m)\u001b[0m\u001b[0;34m\u001b[0m\u001b[0;34m\u001b[0m\u001b[0m\n\u001b[1;32m    826\u001b[0m         \u001b[0;32melse\u001b[0m\u001b[0;34m:\u001b[0m\u001b[0;34m\u001b[0m\u001b[0;34m\u001b[0m\u001b[0m\n\u001b[0;32m--> 827\u001b[0;31m             \u001b[0mself\u001b[0m\u001b[0;34m.\u001b[0m\u001b[0m_jwrite\u001b[0m\u001b[0;34m.\u001b[0m\u001b[0msave\u001b[0m\u001b[0;34m(\u001b[0m\u001b[0mpath\u001b[0m\u001b[0;34m)\u001b[0m\u001b[0;34m\u001b[0m\u001b[0;34m\u001b[0m\u001b[0m\n\u001b[0m\u001b[1;32m    828\u001b[0m \u001b[0;34m\u001b[0m\u001b[0m\n\u001b[1;32m    829\u001b[0m     \u001b[0;34m@\u001b[0m\u001b[0msince\u001b[0m\u001b[0;34m(\u001b[0m\u001b[0;36m1.4\u001b[0m\u001b[0;34m)\u001b[0m\u001b[0;34m\u001b[0m\u001b[0;34m\u001b[0m\u001b[0m\n",
      "\u001b[0;32m/usr/local/spark/python/lib/py4j-0.10.9-src.zip/py4j/java_gateway.py\u001b[0m in \u001b[0;36m__call__\u001b[0;34m(self, *args)\u001b[0m\n\u001b[1;32m   1301\u001b[0m             \u001b[0mproto\u001b[0m\u001b[0;34m.\u001b[0m\u001b[0mEND_COMMAND_PART\u001b[0m\u001b[0;34m\u001b[0m\u001b[0;34m\u001b[0m\u001b[0m\n\u001b[1;32m   1302\u001b[0m \u001b[0;34m\u001b[0m\u001b[0m\n\u001b[0;32m-> 1303\u001b[0;31m         \u001b[0manswer\u001b[0m \u001b[0;34m=\u001b[0m \u001b[0mself\u001b[0m\u001b[0;34m.\u001b[0m\u001b[0mgateway_client\u001b[0m\u001b[0;34m.\u001b[0m\u001b[0msend_command\u001b[0m\u001b[0;34m(\u001b[0m\u001b[0mcommand\u001b[0m\u001b[0;34m)\u001b[0m\u001b[0;34m\u001b[0m\u001b[0;34m\u001b[0m\u001b[0m\n\u001b[0m\u001b[1;32m   1304\u001b[0m         return_value = get_return_value(\n\u001b[1;32m   1305\u001b[0m             answer, self.gateway_client, self.target_id, self.name)\n",
      "\u001b[0;32m/usr/local/spark/python/lib/py4j-0.10.9-src.zip/py4j/java_gateway.py\u001b[0m in \u001b[0;36msend_command\u001b[0;34m(self, command, retry, binary)\u001b[0m\n\u001b[1;32m   1031\u001b[0m         \u001b[0mconnection\u001b[0m \u001b[0;34m=\u001b[0m \u001b[0mself\u001b[0m\u001b[0;34m.\u001b[0m\u001b[0m_get_connection\u001b[0m\u001b[0;34m(\u001b[0m\u001b[0;34m)\u001b[0m\u001b[0;34m\u001b[0m\u001b[0;34m\u001b[0m\u001b[0m\n\u001b[1;32m   1032\u001b[0m         \u001b[0;32mtry\u001b[0m\u001b[0;34m:\u001b[0m\u001b[0;34m\u001b[0m\u001b[0;34m\u001b[0m\u001b[0m\n\u001b[0;32m-> 1033\u001b[0;31m             \u001b[0mresponse\u001b[0m \u001b[0;34m=\u001b[0m \u001b[0mconnection\u001b[0m\u001b[0;34m.\u001b[0m\u001b[0msend_command\u001b[0m\u001b[0;34m(\u001b[0m\u001b[0mcommand\u001b[0m\u001b[0;34m)\u001b[0m\u001b[0;34m\u001b[0m\u001b[0;34m\u001b[0m\u001b[0m\n\u001b[0m\u001b[1;32m   1034\u001b[0m             \u001b[0;32mif\u001b[0m \u001b[0mbinary\u001b[0m\u001b[0;34m:\u001b[0m\u001b[0;34m\u001b[0m\u001b[0;34m\u001b[0m\u001b[0m\n\u001b[1;32m   1035\u001b[0m                 \u001b[0;32mreturn\u001b[0m \u001b[0mresponse\u001b[0m\u001b[0;34m,\u001b[0m \u001b[0mself\u001b[0m\u001b[0;34m.\u001b[0m\u001b[0m_create_connection_guard\u001b[0m\u001b[0;34m(\u001b[0m\u001b[0mconnection\u001b[0m\u001b[0;34m)\u001b[0m\u001b[0;34m\u001b[0m\u001b[0;34m\u001b[0m\u001b[0m\n",
      "\u001b[0;32m/usr/local/spark/python/lib/py4j-0.10.9-src.zip/py4j/java_gateway.py\u001b[0m in \u001b[0;36msend_command\u001b[0;34m(self, command)\u001b[0m\n\u001b[1;32m   1198\u001b[0m \u001b[0;34m\u001b[0m\u001b[0m\n\u001b[1;32m   1199\u001b[0m         \u001b[0;32mtry\u001b[0m\u001b[0;34m:\u001b[0m\u001b[0;34m\u001b[0m\u001b[0;34m\u001b[0m\u001b[0m\n\u001b[0;32m-> 1200\u001b[0;31m             \u001b[0manswer\u001b[0m \u001b[0;34m=\u001b[0m \u001b[0msmart_decode\u001b[0m\u001b[0;34m(\u001b[0m\u001b[0mself\u001b[0m\u001b[0;34m.\u001b[0m\u001b[0mstream\u001b[0m\u001b[0;34m.\u001b[0m\u001b[0mreadline\u001b[0m\u001b[0;34m(\u001b[0m\u001b[0;34m)\u001b[0m\u001b[0;34m[\u001b[0m\u001b[0;34m:\u001b[0m\u001b[0;34m-\u001b[0m\u001b[0;36m1\u001b[0m\u001b[0;34m]\u001b[0m\u001b[0;34m)\u001b[0m\u001b[0;34m\u001b[0m\u001b[0;34m\u001b[0m\u001b[0m\n\u001b[0m\u001b[1;32m   1201\u001b[0m             \u001b[0mlogger\u001b[0m\u001b[0;34m.\u001b[0m\u001b[0mdebug\u001b[0m\u001b[0;34m(\u001b[0m\u001b[0;34m\"Answer received: {0}\"\u001b[0m\u001b[0;34m.\u001b[0m\u001b[0mformat\u001b[0m\u001b[0;34m(\u001b[0m\u001b[0manswer\u001b[0m\u001b[0;34m)\u001b[0m\u001b[0;34m)\u001b[0m\u001b[0;34m\u001b[0m\u001b[0;34m\u001b[0m\u001b[0m\n\u001b[1;32m   1202\u001b[0m             \u001b[0;32mif\u001b[0m \u001b[0manswer\u001b[0m\u001b[0;34m.\u001b[0m\u001b[0mstartswith\u001b[0m\u001b[0;34m(\u001b[0m\u001b[0mproto\u001b[0m\u001b[0;34m.\u001b[0m\u001b[0mRETURN_MESSAGE\u001b[0m\u001b[0;34m)\u001b[0m\u001b[0;34m:\u001b[0m\u001b[0;34m\u001b[0m\u001b[0;34m\u001b[0m\u001b[0m\n",
      "\u001b[0;32m/opt/conda/lib/python3.8/socket.py\u001b[0m in \u001b[0;36mreadinto\u001b[0;34m(self, b)\u001b[0m\n\u001b[1;32m    667\u001b[0m         \u001b[0;32mwhile\u001b[0m \u001b[0;32mTrue\u001b[0m\u001b[0;34m:\u001b[0m\u001b[0;34m\u001b[0m\u001b[0;34m\u001b[0m\u001b[0m\n\u001b[1;32m    668\u001b[0m             \u001b[0;32mtry\u001b[0m\u001b[0;34m:\u001b[0m\u001b[0;34m\u001b[0m\u001b[0;34m\u001b[0m\u001b[0m\n\u001b[0;32m--> 669\u001b[0;31m                 \u001b[0;32mreturn\u001b[0m \u001b[0mself\u001b[0m\u001b[0;34m.\u001b[0m\u001b[0m_sock\u001b[0m\u001b[0;34m.\u001b[0m\u001b[0mrecv_into\u001b[0m\u001b[0;34m(\u001b[0m\u001b[0mb\u001b[0m\u001b[0;34m)\u001b[0m\u001b[0;34m\u001b[0m\u001b[0;34m\u001b[0m\u001b[0m\n\u001b[0m\u001b[1;32m    670\u001b[0m             \u001b[0;32mexcept\u001b[0m \u001b[0mtimeout\u001b[0m\u001b[0;34m:\u001b[0m\u001b[0;34m\u001b[0m\u001b[0;34m\u001b[0m\u001b[0m\n\u001b[1;32m    671\u001b[0m                 \u001b[0mself\u001b[0m\u001b[0;34m.\u001b[0m\u001b[0m_timeout_occurred\u001b[0m \u001b[0;34m=\u001b[0m \u001b[0;32mTrue\u001b[0m\u001b[0;34m\u001b[0m\u001b[0;34m\u001b[0m\u001b[0m\n",
      "\u001b[0;31mKeyboardInterrupt\u001b[0m: "
     ]
    }
   ],
   "source": [
    "t4_mor_sql.repartition(1).write.format(\"com.databricks.spark.csv\").option(\"header\", \"true\").save(\"t4_mor.csv\")"
   ]
  },
  {
   "cell_type": "code",
   "execution_count": null,
   "id": "eleven-change",
   "metadata": {},
   "outputs": [],
   "source": [
    "t4_mor = spark.read.options(header=True, nullValue='NULL', inferSchema=True).csv('/home/jovyan/cybr/data/csvs/t4_mor.csv')"
   ]
  },
  {
   "cell_type": "code",
   "execution_count": null,
   "id": "athletic-former",
   "metadata": {},
   "outputs": [],
   "source": [
    "t4_mor.toPandas().head()"
   ]
  },
  {
   "cell_type": "code",
   "execution_count": null,
   "id": "thirty-affiliate",
   "metadata": {},
   "outputs": [],
   "source": []
  }
 ],
 "metadata": {
  "kernelspec": {
   "display_name": "Python 3",
   "language": "python",
   "name": "python3"
  },
  "language_info": {
   "codemirror_mode": {
    "name": "ipython",
    "version": 3
   },
   "file_extension": ".py",
   "mimetype": "text/x-python",
   "name": "python",
   "nbconvert_exporter": "python",
   "pygments_lexer": "ipython3",
   "version": "3.8.6"
  }
 },
 "nbformat": 4,
 "nbformat_minor": 5
}
